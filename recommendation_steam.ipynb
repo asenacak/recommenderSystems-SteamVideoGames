{
 "cells": [
  {
   "cell_type": "markdown",
   "metadata": {},
   "source": [
    "# Recommender Systems for Steam Video Games"
   ]
  },
  {
   "cell_type": "markdown",
   "metadata": {},
   "source": [
    "data source: https://www.kaggle.com/datasets/tamber/steam-video-games/data"
   ]
  },
  {
   "cell_type": "code",
   "execution_count": 3,
   "metadata": {},
   "outputs": [],
   "source": [
    "import pyspark\n",
    "from pyspark.sql import SparkSession\n",
    "from pyspark.sql.functions import col, count, when, isnan, countDistinct, sum, round, max, min, explode, array_contains\n",
    "from pyspark.ml.feature import StringIndexer\n",
    "from pyspark.ml.recommendation import ALS\n",
    "from pyspark.ml.evaluation import RegressionEvaluator\n",
    "from pyspark.ml.tuning import CrossValidator, ParamGridBuilder\n",
    "import tensorflow as tf"
   ]
  },
  {
   "cell_type": "code",
   "execution_count": 2,
   "metadata": {},
   "outputs": [
    {
     "name": "stderr",
     "output_type": "stream",
     "text": [
      "24/10/18 21:05:32 WARN Utils: Your hostname, Asenas-MacBook-Air.local resolves to a loopback address: 127.0.0.1; using 192.168.1.106 instead (on interface en0)\n",
      "24/10/18 21:05:32 WARN Utils: Set SPARK_LOCAL_IP if you need to bind to another address\n",
      "Setting default log level to \"WARN\".\n",
      "To adjust logging level use sc.setLogLevel(newLevel). For SparkR, use setLogLevel(newLevel).\n",
      "24/10/18 21:05:32 WARN NativeCodeLoader: Unable to load native-hadoop library for your platform... using builtin-java classes where applicable\n"
     ]
    },
    {
     "data": {
      "text/html": [
       "\n",
       "            <div>\n",
       "                <p><b>SparkSession - in-memory</b></p>\n",
       "                \n",
       "        <div>\n",
       "            <p><b>SparkContext</b></p>\n",
       "\n",
       "            <p><a href=\"http://192.168.1.106:4040\">Spark UI</a></p>\n",
       "\n",
       "            <dl>\n",
       "              <dt>Version</dt>\n",
       "                <dd><code>v3.5.3</code></dd>\n",
       "              <dt>Master</dt>\n",
       "                <dd><code>local[*]</code></dd>\n",
       "              <dt>AppName</dt>\n",
       "                <dd><code>Steam Recommender System</code></dd>\n",
       "            </dl>\n",
       "        </div>\n",
       "        \n",
       "            </div>\n",
       "        "
      ],
      "text/plain": [
       "<pyspark.sql.session.SparkSession at 0x11f235dd0>"
      ]
     },
     "execution_count": 2,
     "metadata": {},
     "output_type": "execute_result"
    }
   ],
   "source": [
    "spark = SparkSession.builder.appName('Steam Recommender System').getOrCreate()\n",
    "spark"
   ]
  },
  {
   "cell_type": "code",
   "execution_count": 3,
   "metadata": {},
   "outputs": [
    {
     "name": "stderr",
     "output_type": "stream",
     "text": [
      "                                                                                \r"
     ]
    },
    {
     "data": {
      "text/plain": [
       "DataFrame[_c0: int, _c1: string, _c2: string, _c3: double, _c4: int]"
      ]
     },
     "execution_count": 3,
     "metadata": {},
     "output_type": "execute_result"
    }
   ],
   "source": [
    "df = spark.read.csv('steam-200k.csv', inferSchema = True)\n",
    "df"
   ]
  },
  {
   "cell_type": "code",
   "execution_count": 4,
   "metadata": {},
   "outputs": [
    {
     "name": "stdout",
     "output_type": "stream",
     "text": [
      "+---------+--------------------+--------+-----+---+\n",
      "|      _c0|                 _c1|     _c2|  _c3|_c4|\n",
      "+---------+--------------------+--------+-----+---+\n",
      "|151603712|The Elder Scrolls...|purchase|  1.0|  0|\n",
      "|151603712|The Elder Scrolls...|    play|273.0|  0|\n",
      "|151603712|           Fallout 4|purchase|  1.0|  0|\n",
      "|151603712|           Fallout 4|    play| 87.0|  0|\n",
      "|151603712|               Spore|purchase|  1.0|  0|\n",
      "+---------+--------------------+--------+-----+---+\n",
      "only showing top 5 rows\n",
      "\n"
     ]
    }
   ],
   "source": [
    "df.show(5)"
   ]
  },
  {
   "cell_type": "code",
   "execution_count": 5,
   "metadata": {},
   "outputs": [
    {
     "name": "stdout",
     "output_type": "stream",
     "text": [
      "root\n",
      " |-- _c0: integer (nullable = true)\n",
      " |-- _c1: string (nullable = true)\n",
      " |-- _c2: string (nullable = true)\n",
      " |-- _c3: double (nullable = true)\n",
      " |-- _c4: integer (nullable = true)\n",
      "\n"
     ]
    }
   ],
   "source": [
    "df.printSchema()"
   ]
  },
  {
   "cell_type": "code",
   "execution_count": 6,
   "metadata": {},
   "outputs": [
    {
     "data": {
      "text/plain": [
       "['_c0', '_c1', '_c2', '_c3', '_c4']"
      ]
     },
     "execution_count": 6,
     "metadata": {},
     "output_type": "execute_result"
    }
   ],
   "source": [
    "df.columns"
   ]
  },
  {
   "cell_type": "code",
   "execution_count": 7,
   "metadata": {},
   "outputs": [],
   "source": [
    "df = df.withColumnRenamed('_c0', 'user_id') \\\n",
    "       .withColumnRenamed('_c1', 'name') \\\n",
    "       .withColumnRenamed('_c2', 'action') \\\n",
    "       .withColumnRenamed('_c3', 'hours') \\\n",
    "       .withColumnRenamed('_c4', 'zero')"
   ]
  },
  {
   "cell_type": "code",
   "execution_count": 8,
   "metadata": {},
   "outputs": [
    {
     "name": "stdout",
     "output_type": "stream",
     "text": [
      "root\n",
      " |-- user_id: integer (nullable = true)\n",
      " |-- name: string (nullable = true)\n",
      " |-- action: string (nullable = true)\n",
      " |-- hours: double (nullable = true)\n",
      " |-- zero: integer (nullable = true)\n",
      "\n"
     ]
    }
   ],
   "source": [
    "df.printSchema()"
   ]
  },
  {
   "cell_type": "markdown",
   "metadata": {},
   "source": [
    "shape"
   ]
  },
  {
   "cell_type": "code",
   "execution_count": 9,
   "metadata": {},
   "outputs": [
    {
     "data": {
      "text/plain": [
       "(200000, 5)"
      ]
     },
     "execution_count": 9,
     "metadata": {},
     "output_type": "execute_result"
    }
   ],
   "source": [
    "df.count(), len(df.columns) ## shape"
   ]
  },
  {
   "cell_type": "markdown",
   "metadata": {},
   "source": [
    "null or na values"
   ]
  },
  {
   "cell_type": "code",
   "execution_count": 10,
   "metadata": {},
   "outputs": [
    {
     "name": "stderr",
     "output_type": "stream",
     "text": [
      "[Stage 6:===================>                                       (1 + 2) / 3]\r"
     ]
    },
    {
     "name": "stdout",
     "output_type": "stream",
     "text": [
      "+-------+----+------+-----+----+\n",
      "|user_id|name|action|hours|zero|\n",
      "+-------+----+------+-----+----+\n",
      "|      0|   0|     0|    0|   0|\n",
      "+-------+----+------+-----+----+\n",
      "\n"
     ]
    },
    {
     "name": "stderr",
     "output_type": "stream",
     "text": [
      "                                                                                \r"
     ]
    }
   ],
   "source": [
    "df.select([count(when(col(c).isNull(), c)).alias(c) for c in df.columns]).show()"
   ]
  },
  {
   "cell_type": "code",
   "execution_count": 11,
   "metadata": {},
   "outputs": [
    {
     "name": "stderr",
     "output_type": "stream",
     "text": [
      "[Stage 9:===================>                                       (1 + 2) / 3]\r"
     ]
    },
    {
     "name": "stdout",
     "output_type": "stream",
     "text": [
      "+-------+----+------+-----+----+\n",
      "|user_id|name|action|hours|zero|\n",
      "+-------+----+------+-----+----+\n",
      "|      0|   0|     0|    0|   0|\n",
      "+-------+----+------+-----+----+\n",
      "\n"
     ]
    },
    {
     "name": "stderr",
     "output_type": "stream",
     "text": [
      "                                                                                \r"
     ]
    }
   ],
   "source": [
    "columns = ['user_id', 'name', 'action', 'hours', 'zero']\n",
    "\n",
    "df.select([count(when(isnan(col(c)), c)).alias(c) for c in columns]).show()"
   ]
  },
  {
   "cell_type": "markdown",
   "metadata": {},
   "source": [
    "duplicate"
   ]
  },
  {
   "cell_type": "code",
   "execution_count": 12,
   "metadata": {},
   "outputs": [
    {
     "name": "stderr",
     "output_type": "stream",
     "text": [
      "[Stage 12:===================>                                      (1 + 2) / 3]\r"
     ]
    },
    {
     "name": "stdout",
     "output_type": "stream",
     "text": [
      "+---------+--------------------+--------+-----+----+-----+\n",
      "|  user_id|                name|  action|hours|zero|count|\n",
      "+---------+--------------------+--------+-----+----+-----+\n",
      "| 86338111|Grand Theft Auto ...|purchase|  1.0|   0|    2|\n",
      "|189858084|Grand Theft Auto ...|purchase|  1.0|   0|    2|\n",
      "|150882304|Sid Meier's Civil...|purchase|  1.0|   0|    2|\n",
      "|189858084|Grand Theft Auto ...|purchase|  1.0|   0|    2|\n",
      "|116617462|Grand Theft Auto ...|purchase|  1.0|   0|    2|\n",
      "| 37422528|Sid Meier's Civil...|purchase|  1.0|   0|    2|\n",
      "|147859903|Sid Meier's Civil...|purchase|  1.0|   0|    2|\n",
      "|138941587|Sid Meier's Civil...|purchase|  1.0|   0|    2|\n",
      "|145825155|Grand Theft Auto ...|purchase|  1.0|   0|    2|\n",
      "|105782521|Sid Meier's Civil...|purchase|  1.0|   0|    2|\n",
      "| 46301758|Sid Meier's Civil...|purchase|  1.0|   0|    2|\n",
      "|179936723|Grand Theft Auto ...|purchase|  1.0|   0|    2|\n",
      "| 64455019|Sid Meier's Civil...|purchase|  1.0|   0|    2|\n",
      "|142650116|Grand Theft Auto ...|purchase|  1.0|   0|    2|\n",
      "| 33013552|Sid Meier's Civil...|purchase|  1.0|   0|    2|\n",
      "| 93275329|Grand Theft Auto III|purchase|  1.0|   0|    2|\n",
      "| 86055705|Grand Theft Auto ...|purchase|  1.0|   0|    2|\n",
      "| 24721232|Grand Theft Auto ...|purchase|  1.0|   0|    2|\n",
      "| 24721232|Sid Meier's Civil...|purchase|  1.0|   0|    2|\n",
      "|105877396|Sid Meier's Civil...|purchase|  1.0|   0|    2|\n",
      "+---------+--------------------+--------+-----+----+-----+\n",
      "only showing top 20 rows\n",
      "\n"
     ]
    },
    {
     "name": "stderr",
     "output_type": "stream",
     "text": [
      "                                                                                \r"
     ]
    }
   ],
   "source": [
    "df.groupBy(columns).count().filter('count > 1').show()"
   ]
  },
  {
   "cell_type": "code",
   "execution_count": 13,
   "metadata": {},
   "outputs": [],
   "source": [
    "df_new = df.dropDuplicates()"
   ]
  },
  {
   "cell_type": "code",
   "execution_count": 14,
   "metadata": {},
   "outputs": [
    {
     "name": "stderr",
     "output_type": "stream",
     "text": [
      "                                                                                \r"
     ]
    },
    {
     "data": {
      "text/plain": [
       "199293"
      ]
     },
     "execution_count": 14,
     "metadata": {},
     "output_type": "execute_result"
    }
   ],
   "source": [
    "df_new.count()"
   ]
  },
  {
   "cell_type": "markdown",
   "metadata": {},
   "source": [
    "unique"
   ]
  },
  {
   "cell_type": "code",
   "execution_count": 15,
   "metadata": {},
   "outputs": [
    {
     "name": "stderr",
     "output_type": "stream",
     "text": [
      "[Stage 21:===================>                                      (1 + 2) / 3]\r"
     ]
    },
    {
     "name": "stdout",
     "output_type": "stream",
     "text": [
      "+-------+----+------+-----+----+\n",
      "|user_id|name|action|hours|zero|\n",
      "+-------+----+------+-----+----+\n",
      "|  12393|5155|     2| 1593|   1|\n",
      "+-------+----+------+-----+----+\n",
      "\n"
     ]
    },
    {
     "name": "stderr",
     "output_type": "stream",
     "text": [
      "                                                                                \r"
     ]
    }
   ],
   "source": [
    "df_new.select([countDistinct(c).alias(c) for c in columns]).show()"
   ]
  },
  {
   "cell_type": "markdown",
   "metadata": {},
   "source": [
    "remove column zero"
   ]
  },
  {
   "cell_type": "code",
   "execution_count": 16,
   "metadata": {},
   "outputs": [],
   "source": [
    "df_new = df_new.drop('zero')"
   ]
  },
  {
   "cell_type": "markdown",
   "metadata": {},
   "source": [
    "data analysis"
   ]
  },
  {
   "cell_type": "code",
   "execution_count": 17,
   "metadata": {},
   "outputs": [
    {
     "name": "stdout",
     "output_type": "stream",
     "text": [
      "+--------------------+-----------+\n",
      "|                name|users_count|\n",
      "+--------------------+-----------+\n",
      "|              Dota 2|       9682|\n",
      "|     Team Fortress 2|       4646|\n",
      "|Counter-Strike Gl...|       2789|\n",
      "|            Unturned|       2632|\n",
      "|       Left 4 Dead 2|       1752|\n",
      "|Counter-Strike So...|       1693|\n",
      "|      Counter-Strike|       1424|\n",
      "|         Garry's Mod|       1397|\n",
      "|The Elder Scrolls...|       1394|\n",
      "|            Warframe|       1271|\n",
      "|Half-Life 2 Lost ...|       1158|\n",
      "|Sid Meier's Civil...|       1150|\n",
      "|           Robocraft|       1096|\n",
      "|Half-Life 2 Death...|       1021|\n",
      "|              Portal|       1005|\n",
      "|            Portal 2|        997|\n",
      "|         Half-Life 2|        995|\n",
      "|   Heroes & Generals|        993|\n",
      "|            Terraria|        956|\n",
      "|Counter-Strike Co...|        904|\n",
      "+--------------------+-----------+\n",
      "\n"
     ]
    }
   ],
   "source": [
    "df.groupBy('name')\\\n",
    "    .agg(count('user_id').alias('users_count'))\\\n",
    "    .orderBy('users_count', ascending = False)\\\n",
    "    .limit(20)\\\n",
    "    .show()"
   ]
  },
  {
   "cell_type": "code",
   "execution_count": 18,
   "metadata": {},
   "outputs": [
    {
     "name": "stdout",
     "output_type": "stream",
     "text": [
      "+--------------------+-------------------+\n",
      "|                name|count_user_purchase|\n",
      "+--------------------+-------------------+\n",
      "|              Dota 2|               4841|\n",
      "|     Team Fortress 2|               2323|\n",
      "|            Unturned|               1563|\n",
      "|Counter-Strike Gl...|               1412|\n",
      "|Half-Life 2 Lost ...|                981|\n",
      "|Counter-Strike So...|                978|\n",
      "|       Left 4 Dead 2|                951|\n",
      "|      Counter-Strike|                856|\n",
      "|            Warframe|                847|\n",
      "|Half-Life 2 Death...|                823|\n",
      "|         Garry's Mod|                731|\n",
      "|The Elder Scrolls...|                717|\n",
      "|           Robocraft|                689|\n",
      "|Counter-Strike Co...|                679|\n",
      "|Counter-Strike Co...|                679|\n",
      "|   Heroes & Generals|                658|\n",
      "|         Half-Life 2|                639|\n",
      "|Sid Meier's Civil...|                596|\n",
      "|         War Thunder|                590|\n",
      "|              Portal|                588|\n",
      "+--------------------+-------------------+\n",
      "\n"
     ]
    }
   ],
   "source": [
    "df.filter(col('action') == 'purchase') \\\n",
    "  .groupBy('name') \\\n",
    "  .agg(count('user_id').alias('count_user_purchase')) \\\n",
    "  .orderBy('count_user_purchase', ascending=False) \\\n",
    "  .limit(20) \\\n",
    "  .show()"
   ]
  },
  {
   "cell_type": "code",
   "execution_count": 19,
   "metadata": {},
   "outputs": [
    {
     "name": "stdout",
     "output_type": "stream",
     "text": [
      "+--------------------+---------------+\n",
      "|                name|count_user_play|\n",
      "+--------------------+---------------+\n",
      "|              Dota 2|           4841|\n",
      "|     Team Fortress 2|           2323|\n",
      "|Counter-Strike Gl...|           1377|\n",
      "|            Unturned|           1069|\n",
      "|       Left 4 Dead 2|            801|\n",
      "|Counter-Strike So...|            715|\n",
      "|The Elder Scrolls...|            677|\n",
      "|         Garry's Mod|            666|\n",
      "|      Counter-Strike|            568|\n",
      "|Sid Meier's Civil...|            554|\n",
      "|            Terraria|            460|\n",
      "|            Portal 2|            453|\n",
      "|            Warframe|            424|\n",
      "|              Portal|            417|\n",
      "|           Robocraft|            407|\n",
      "|            PAYDAY 2|            390|\n",
      "|       Borderlands 2|            386|\n",
      "|         Half-Life 2|            356|\n",
      "|   Heroes & Generals|            335|\n",
      "|         War Thunder|            303|\n",
      "+--------------------+---------------+\n",
      "\n"
     ]
    }
   ],
   "source": [
    "df.filter(col('action') == 'play') \\\n",
    "  .groupBy('name') \\\n",
    "  .agg(count('user_id').alias('count_user_play')) \\\n",
    "  .orderBy('count_user_play', ascending=False) \\\n",
    "  .limit(20) \\\n",
    "  .show()"
   ]
  },
  {
   "cell_type": "code",
   "execution_count": 20,
   "metadata": {},
   "outputs": [
    {
     "name": "stdout",
     "output_type": "stream",
     "text": [
      "+--------------------+----------+\n",
      "|                name|total_play|\n",
      "+--------------------+----------+\n",
      "|              Dota 2|  981684.6|\n",
      "|Counter-Strike Gl...|  322771.6|\n",
      "|     Team Fortress 2|  173673.3|\n",
      "|      Counter-Strike|  134261.1|\n",
      "|Sid Meier's Civil...|   99821.3|\n",
      "|Counter-Strike So...|   96075.5|\n",
      "|The Elder Scrolls...|   70889.3|\n",
      "|         Garry's Mod|   49725.3|\n",
      "|Call of Duty Mode...|   42009.9|\n",
      "|       Left 4 Dead 2|   33596.7|\n",
      "|Football Manager ...|   32308.6|\n",
      "|Football Manager ...|   30845.8|\n",
      "|Football Manager ...|   30574.8|\n",
      "|            Terraria|   29951.8|\n",
      "|            Warframe|   27074.6|\n",
      "|Football Manager ...|   24283.1|\n",
      "|              Arma 3|   24055.7|\n",
      "|  Grand Theft Auto V|   22956.7|\n",
      "|       Borderlands 2|   22667.9|\n",
      "|    Empire Total War|   21030.3|\n",
      "+--------------------+----------+\n",
      "only showing top 20 rows\n",
      "\n"
     ]
    }
   ],
   "source": [
    "df.filter(col('action') == 'play') \\\n",
    "  .groupBy('name') \\\n",
    "  .agg(round(sum('hours'), 2).alias('total_play')) \\\n",
    "  .orderBy('total_play', ascending = False) \\\n",
    "  .limit(50) \\\n",
    "  .show()"
   ]
  },
  {
   "cell_type": "markdown",
   "metadata": {},
   "source": [
    "data prep for recommedation system"
   ]
  },
  {
   "cell_type": "code",
   "execution_count": 21,
   "metadata": {},
   "outputs": [
    {
     "data": {
      "text/plain": [
       "128804"
      ]
     },
     "execution_count": 21,
     "metadata": {},
     "output_type": "execute_result"
    }
   ],
   "source": [
    "df_purchase = df_new.filter(col('action') == 'purchase')\n",
    "df_purchase.count()"
   ]
  },
  {
   "cell_type": "code",
   "execution_count": 22,
   "metadata": {},
   "outputs": [
    {
     "name": "stdout",
     "output_type": "stream",
     "text": [
      "+-----------------------+\n",
      "|count(DISTINCT user_id)|\n",
      "+-----------------------+\n",
      "|                  12393|\n",
      "+-----------------------+\n",
      "\n"
     ]
    }
   ],
   "source": [
    "df_purchase.select(countDistinct('user_id')).show()\n",
    "df_purchase = df_purchase.withColumnRenamed('action', 'action_pur') \\\n",
    "                         .withColumnRenamed('hours', 'purchase')"
   ]
  },
  {
   "cell_type": "code",
   "execution_count": 23,
   "metadata": {},
   "outputs": [
    {
     "data": {
      "text/plain": [
       "70489"
      ]
     },
     "execution_count": 23,
     "metadata": {},
     "output_type": "execute_result"
    }
   ],
   "source": [
    "df_play = df_new.filter(col('action') == 'play')\n",
    "df_play.count()"
   ]
  },
  {
   "cell_type": "code",
   "execution_count": 24,
   "metadata": {},
   "outputs": [
    {
     "name": "stdout",
     "output_type": "stream",
     "text": [
      "+-----------------------+\n",
      "|count(DISTINCT user_id)|\n",
      "+-----------------------+\n",
      "|                  11350|\n",
      "+-----------------------+\n",
      "\n"
     ]
    }
   ],
   "source": [
    "df_play.select(countDistinct('user_id')).show()"
   ]
  },
  {
   "cell_type": "code",
   "execution_count": 25,
   "metadata": {},
   "outputs": [],
   "source": [
    "full_df = df_purchase.join(df_play, [\"user_id\", \"name\"], \"outer\")"
   ]
  },
  {
   "cell_type": "code",
   "execution_count": 26,
   "metadata": {},
   "outputs": [
    {
     "name": "stderr",
     "output_type": "stream",
     "text": [
      "                                                                                \r"
     ]
    },
    {
     "data": {
      "text/plain": [
       "128816"
      ]
     },
     "execution_count": 26,
     "metadata": {},
     "output_type": "execute_result"
    }
   ],
   "source": [
    "full_df.count()"
   ]
  },
  {
   "cell_type": "code",
   "execution_count": 27,
   "metadata": {},
   "outputs": [],
   "source": [
    "new_columns = full_df.columns"
   ]
  },
  {
   "cell_type": "code",
   "execution_count": 28,
   "metadata": {},
   "outputs": [
    {
     "name": "stderr",
     "output_type": "stream",
     "text": [
      "[Stage 90:>                                                         (0 + 6) / 6]\r"
     ]
    },
    {
     "name": "stdout",
     "output_type": "stream",
     "text": [
      "+-------+----+----------+--------+------+-----+\n",
      "|user_id|name|action_pur|purchase|action|hours|\n",
      "+-------+----+----------+--------+------+-----+\n",
      "|  12393|5155|         1|       1|     1| 1593|\n",
      "+-------+----+----------+--------+------+-----+\n",
      "\n"
     ]
    },
    {
     "name": "stderr",
     "output_type": "stream",
     "text": [
      "                                                                                \r"
     ]
    }
   ],
   "source": [
    "full_df_unique = full_df.select([countDistinct(c).alias(c) for c in new_columns]).show()"
   ]
  },
  {
   "cell_type": "code",
   "execution_count": 29,
   "metadata": {},
   "outputs": [
    {
     "name": "stdout",
     "output_type": "stream",
     "text": [
      "+-------+----+----------+--------+------+-----+\n",
      "|user_id|name|action_pur|purchase|action|hours|\n",
      "+-------+----+----------+--------+------+-----+\n",
      "|      0|   0|         0|       0| 58327|58327|\n",
      "+-------+----+----------+--------+------+-----+\n",
      "\n"
     ]
    }
   ],
   "source": [
    "full_df.select([count(when(col(c).isNull(), c)).alias(c) for c in new_columns]).show()"
   ]
  },
  {
   "cell_type": "code",
   "execution_count": 30,
   "metadata": {},
   "outputs": [],
   "source": [
    "data = full_df.fillna(0, subset=['hours'])"
   ]
  },
  {
   "cell_type": "code",
   "execution_count": 31,
   "metadata": {},
   "outputs": [],
   "source": [
    "data = data.drop(\"action_pur\", \"purchase\", \"action\")"
   ]
  },
  {
   "cell_type": "code",
   "execution_count": 32,
   "metadata": {},
   "outputs": [
    {
     "name": "stdout",
     "output_type": "stream",
     "text": [
      "+-------+------------------+\n",
      "|summary|             hours|\n",
      "+-------+------------------+\n",
      "|  count|            128816|\n",
      "|   mean|26.746411936405334|\n",
      "| stddev|171.38236775962963|\n",
      "|    min|               0.0|\n",
      "|    max|           11754.0|\n",
      "+-------+------------------+\n",
      "\n"
     ]
    }
   ],
   "source": [
    "data.describe(\"hours\").show()"
   ]
  },
  {
   "cell_type": "code",
   "execution_count": 33,
   "metadata": {},
   "outputs": [
    {
     "name": "stderr",
     "output_type": "stream",
     "text": [
      "                                                                                \r"
     ]
    }
   ],
   "source": [
    "min_hours = data.select(min(\"hours\")).collect()[0][0]\n",
    "max_hours = data.select(max(\"hours\")).collect()[0][0]\n",
    "\n",
    "data = data.withColumn(\"normalized_hours\", (col(\"hours\") - min_hours) / (max_hours - min_hours))"
   ]
  },
  {
   "cell_type": "markdown",
   "metadata": {},
   "source": [
    "## Recommender Systems"
   ]
  },
  {
   "cell_type": "markdown",
   "metadata": {},
   "source": [
    "### 1) ALS - Pyspark"
   ]
  },
  {
   "cell_type": "code",
   "execution_count": 34,
   "metadata": {},
   "outputs": [
    {
     "name": "stderr",
     "output_type": "stream",
     "text": [
      "                                                                                \r"
     ]
    }
   ],
   "source": [
    "indexer = StringIndexer(inputCol=\"name\", outputCol=\"game_id\")\n",
    "data_indexed = indexer.fit(data).transform(data)"
   ]
  },
  {
   "cell_type": "markdown",
   "metadata": {},
   "source": [
    "*Train - Test Split*"
   ]
  },
  {
   "cell_type": "code",
   "execution_count": 35,
   "metadata": {},
   "outputs": [],
   "source": [
    "(train_set, test_set) = data_indexed.randomSplit([0.8, 0.2])"
   ]
  },
  {
   "cell_type": "markdown",
   "metadata": {},
   "source": [
    "*Model Selection - Hyperparameter Tunning*"
   ]
  },
  {
   "cell_type": "code",
   "execution_count": 36,
   "metadata": {},
   "outputs": [
    {
     "name": "stderr",
     "output_type": "stream",
     "text": [
      "24/10/18 21:06:27 WARN InstanceBuilder: Failed to load implementation from:dev.ludovic.netlib.blas.JNIBLAS\n",
      "24/10/18 21:06:28 WARN InstanceBuilder: Failed to load implementation from:dev.ludovic.netlib.lapack.JNILAPACK\n",
      "                                                                                ]]\r"
     ]
    }
   ],
   "source": [
    "# the als model \n",
    "als = ALS(userCol=\"user_id\", itemCol=\"game_id\", ratingCol=\"normalized_hours\", implicitPrefs=True, coldStartStrategy='drop') #Note we set cold start strategy to 'drop' \n",
    "#to ensure we don't get NaN evaluation metrics\n",
    "\n",
    "# the parameter grid\n",
    "paramGrid = ParamGridBuilder() \\\n",
    "  .addGrid(als.maxIter, [5, 10, 15]) \\\n",
    "  .addGrid(als.regParam, [0.01, 0.05, 0.1]) \\\n",
    "  .build()\n",
    "\n",
    "# cross-validator\n",
    "crossval = CrossValidator(estimator=als, estimatorParamMaps=paramGrid, evaluator=RegressionEvaluator(metricName=\"rmse\", labelCol=\"normalized_hours\", predictionCol=\"prediction\"), numFolds=5, seed=42)\n",
    "\n",
    "# Fit the cross-validator to the training data\n",
    "cvModel = crossval.fit(train_set)"
   ]
  },
  {
   "cell_type": "code",
   "execution_count": 37,
   "metadata": {},
   "outputs": [
    {
     "name": "stdout",
     "output_type": "stream",
     "text": [
      "Best maxIter: 5\n",
      "Best regParam: 0.1\n"
     ]
    }
   ],
   "source": [
    "# best model\n",
    "bestModel = cvModel.bestModel\n",
    "\n",
    "# Parameter map\n",
    "paramMap = bestModel.extractParamMap()\n",
    "\n",
    "# best params\n",
    "best_maxIter = bestModel._java_obj.parent().getMaxIter()\n",
    "best_regParam = bestModel._java_obj.parent().getRegParam()\n",
    "\n",
    "print(\"Best maxIter:\", best_maxIter)\n",
    "print(\"Best regParam:\", best_regParam)\n"
   ]
  },
  {
   "cell_type": "markdown",
   "metadata": {},
   "source": [
    "*Model Training*"
   ]
  },
  {
   "cell_type": "code",
   "execution_count": 38,
   "metadata": {},
   "outputs": [
    {
     "name": "stderr",
     "output_type": "stream",
     "text": [
      "                                                                                \r"
     ]
    }
   ],
   "source": [
    "als_best = ALS(maxIter=best_maxIter, regParam=best_regParam, userCol=\"user_id\", itemCol=\"game_id\",\n",
    "                ratingCol=\"normalized_hours\", implicitPrefs=True, coldStartStrategy=\"drop\")\n",
    "als_best = als_best.fit(train_set)"
   ]
  },
  {
   "cell_type": "markdown",
   "metadata": {},
   "source": [
    "*Making predictions*"
   ]
  },
  {
   "cell_type": "code",
   "execution_count": 39,
   "metadata": {},
   "outputs": [],
   "source": [
    "predictions_als = als_best.transform(test_set)"
   ]
  },
  {
   "cell_type": "markdown",
   "metadata": {},
   "source": [
    "*Model Evaluation*"
   ]
  },
  {
   "cell_type": "code",
   "execution_count": 40,
   "metadata": {},
   "outputs": [
    {
     "name": "stdout",
     "output_type": "stream",
     "text": [
      "RMSE of ALS: 0.09570352962587655\n"
     ]
    }
   ],
   "source": [
    "evaluator_als = RegressionEvaluator(metricName=\"rmse\", labelCol=\"normalized_hours\", predictionCol=\"prediction\")\n",
    "rmse_als = evaluator_als.evaluate(predictions_als)\n",
    "print('RMSE of ALS:', rmse_als)"
   ]
  },
  {
   "cell_type": "markdown",
   "metadata": {},
   "source": [
    "*Model Training by using all data to get recommendations*"
   ]
  },
  {
   "cell_type": "code",
   "execution_count": 41,
   "metadata": {},
   "outputs": [],
   "source": [
    "als_best = ALS(maxIter=best_maxIter, regParam=best_regParam, userCol=\"user_id\", itemCol=\"game_id\",\n",
    "                ratingCol=\"normalized_hours\", implicitPrefs=True, coldStartStrategy=\"drop\")\n",
    "als_full_model = als_best.fit(data_indexed)"
   ]
  },
  {
   "cell_type": "markdown",
   "metadata": {},
   "source": [
    "*Recommender System*"
   ]
  },
  {
   "cell_type": "code",
   "execution_count": 42,
   "metadata": {},
   "outputs": [
    {
     "name": "stderr",
     "output_type": "stream",
     "text": [
      "[Stage 24199:=============================================>      (88 + 8) / 100]\r"
     ]
    },
    {
     "name": "stdout",
     "output_type": "stream",
     "text": [
      "+--------+--------------------+\n",
      "| user_id|     recommendations|\n",
      "+--------+--------------------+\n",
      "|   76767|[{44, 0.81006765}...|\n",
      "|  144736|[{7, 0.62927514},...|\n",
      "|  229911|[{7, 0.82156044},...|\n",
      "|  835015|[{49, 0.0}, {48, ...|\n",
      "|  948368|[{5, 0.6563678}, ...|\n",
      "|  975449|[{20, 0.6852299},...|\n",
      "| 1268792|[{7, 0.62928313},...|\n",
      "| 2531540|[{5, 0.5487922}, ...|\n",
      "| 2753525|[{3, 0.64218736},...|\n",
      "| 3450426|[{7, 0.7289074}, ...|\n",
      "| 7923954|[{7, 0.62927914},...|\n",
      "| 7987640|[{49, 0.0}, {48, ...|\n",
      "| 8259307|[{11, 0.33154145}...|\n",
      "| 8567888|[{5, 0.59169555},...|\n",
      "| 8585433|[{20, 0.57494766}...|\n",
      "| 8784496|[{1, 0.4558313}, ...|\n",
      "| 8795607|[{5, 0.68889225},...|\n",
      "|10144413|[{49, 0.0}, {48, ...|\n",
      "|10595342|[{5, 0.8738419}, ...|\n",
      "|10599862|[{11, 0.7632819},...|\n",
      "+--------+--------------------+\n",
      "only showing top 20 rows\n",
      "\n"
     ]
    },
    {
     "name": "stderr",
     "output_type": "stream",
     "text": [
      "                                                                                \r"
     ]
    }
   ],
   "source": [
    "user_recommendations = als_full_model.recommendForAllUsers(5)\n",
    "user_recommendations.show()"
   ]
  },
  {
   "cell_type": "code",
   "execution_count": 46,
   "metadata": {},
   "outputs": [],
   "source": [
    "# Convert DataFrame to a list of dictionaries\n",
    "user_recommendations_list = list(user_recommendations.toLocalIterator())"
   ]
  },
  {
   "cell_type": "code",
   "execution_count": 48,
   "metadata": {},
   "outputs": [],
   "source": [
    "# replace game IDs with their corresponding names\n",
    "recommendation_df = spark.createDataFrame(user_recommendations_list, [\"user_id\", \"recommendations\"])\n",
    " "
   ]
  },
  {
   "cell_type": "code",
   "execution_count": 51,
   "metadata": {},
   "outputs": [
    {
     "name": "stdout",
     "output_type": "stream",
     "text": [
      "root\n",
      " |-- user_id: long (nullable = true)\n",
      " |-- recommendations: array (nullable = true)\n",
      " |    |-- element: struct (containsNull = true)\n",
      " |    |    |-- game_id: long (nullable = true)\n",
      " |    |    |-- rating: double (nullable = true)\n",
      "\n"
     ]
    }
   ],
   "source": [
    "recommendation_df.printSchema()"
   ]
  },
  {
   "cell_type": "markdown",
   "metadata": {},
   "source": [
    "add game names to recommendations"
   ]
  },
  {
   "cell_type": "markdown",
   "metadata": {},
   "source": [
    "### 2) Tensorflow Recommender (TFRS)"
   ]
  }
 ],
 "metadata": {
  "kernelspec": {
   "display_name": "base",
   "language": "python",
   "name": "python3"
  },
  "language_info": {
   "codemirror_mode": {
    "name": "ipython",
    "version": 3
   },
   "file_extension": ".py",
   "mimetype": "text/x-python",
   "name": "python",
   "nbconvert_exporter": "python",
   "pygments_lexer": "ipython3",
   "version": "3.12.7"
  },
  "orig_nbformat": 4
 },
 "nbformat": 4,
 "nbformat_minor": 2
}
