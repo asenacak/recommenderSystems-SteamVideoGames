{
 "cells": [
  {
   "cell_type": "markdown",
   "metadata": {},
   "source": [
    "# Recommender Systems for Steam Video Games"
   ]
  },
  {
   "cell_type": "markdown",
   "metadata": {},
   "source": [
    "data source: https://www.kaggle.com/datasets/tamber/steam-video-games/data\n",
    " \n",
    "a blog: https://andbloch.github.io/An-Overview-of-Collaborative-Filtering-Algorithms/"
   ]
  },
  {
   "cell_type": "code",
   "execution_count": 65,
   "metadata": {},
   "outputs": [],
   "source": [
    "import pyspark\n",
    "from pyspark.sql import SparkSession\n",
    "from pyspark.sql.functions import col, count, when, isnan, countDistinct, sum, round, max, min, explode, udf\n",
    "from pyspark.sql.types import IntegerType\n",
    "from pyspark.ml.feature import StringIndexer\n",
    "from pyspark.ml.recommendation import ALS\n",
    "from pyspark.ml.evaluation import RegressionEvaluator\n",
    "from pyspark.ml.tuning import CrossValidator, ParamGridBuilder\n",
    "import tensorflow as tf\n",
    "import tensorflow_recommenders as tfrs\n",
    "from tensorflow.keras import layers, Model\n",
    "import numpy as np"
   ]
  },
  {
   "cell_type": "code",
   "execution_count": 2,
   "metadata": {},
   "outputs": [
    {
     "name": "stderr",
     "output_type": "stream",
     "text": [
      "24/10/20 14:49:37 WARN Utils: Your hostname, Asenas-MacBook-Air.local resolves to a loopback address: 127.0.0.1; using 192.168.1.101 instead (on interface en0)\n",
      "24/10/20 14:49:37 WARN Utils: Set SPARK_LOCAL_IP if you need to bind to another address\n",
      "Setting default log level to \"WARN\".\n",
      "To adjust logging level use sc.setLogLevel(newLevel). For SparkR, use setLogLevel(newLevel).\n",
      "24/10/20 14:49:37 WARN NativeCodeLoader: Unable to load native-hadoop library for your platform... using builtin-java classes where applicable\n"
     ]
    },
    {
     "data": {
      "text/html": [
       "\n",
       "            <div>\n",
       "                <p><b>SparkSession - in-memory</b></p>\n",
       "                \n",
       "        <div>\n",
       "            <p><b>SparkContext</b></p>\n",
       "\n",
       "            <p><a href=\"http://192.168.1.101:4040\">Spark UI</a></p>\n",
       "\n",
       "            <dl>\n",
       "              <dt>Version</dt>\n",
       "                <dd><code>v3.5.3</code></dd>\n",
       "              <dt>Master</dt>\n",
       "                <dd><code>local[*]</code></dd>\n",
       "              <dt>AppName</dt>\n",
       "                <dd><code>Steam Recommender System</code></dd>\n",
       "            </dl>\n",
       "        </div>\n",
       "        \n",
       "            </div>\n",
       "        "
      ],
      "text/plain": [
       "<pyspark.sql.session.SparkSession at 0x17a8da7b0>"
      ]
     },
     "execution_count": 2,
     "metadata": {},
     "output_type": "execute_result"
    }
   ],
   "source": [
    "spark = SparkSession.builder.appName('Steam Recommender System').getOrCreate()\n",
    "spark"
   ]
  },
  {
   "cell_type": "code",
   "execution_count": 3,
   "metadata": {},
   "outputs": [
    {
     "name": "stderr",
     "output_type": "stream",
     "text": [
      "                                                                                \r"
     ]
    },
    {
     "data": {
      "text/plain": [
       "DataFrame[_c0: int, _c1: string, _c2: string, _c3: double, _c4: int]"
      ]
     },
     "execution_count": 3,
     "metadata": {},
     "output_type": "execute_result"
    }
   ],
   "source": [
    "df = spark.read.csv('steam-200k.csv', inferSchema = True)\n",
    "df"
   ]
  },
  {
   "cell_type": "code",
   "execution_count": 4,
   "metadata": {},
   "outputs": [
    {
     "name": "stdout",
     "output_type": "stream",
     "text": [
      "+---------+--------------------+--------+-----+---+\n",
      "|      _c0|                 _c1|     _c2|  _c3|_c4|\n",
      "+---------+--------------------+--------+-----+---+\n",
      "|151603712|The Elder Scrolls...|purchase|  1.0|  0|\n",
      "|151603712|The Elder Scrolls...|    play|273.0|  0|\n",
      "|151603712|           Fallout 4|purchase|  1.0|  0|\n",
      "|151603712|           Fallout 4|    play| 87.0|  0|\n",
      "|151603712|               Spore|purchase|  1.0|  0|\n",
      "+---------+--------------------+--------+-----+---+\n",
      "only showing top 5 rows\n",
      "\n"
     ]
    }
   ],
   "source": [
    "df.show(5)"
   ]
  },
  {
   "cell_type": "code",
   "execution_count": 5,
   "metadata": {},
   "outputs": [
    {
     "name": "stdout",
     "output_type": "stream",
     "text": [
      "root\n",
      " |-- _c0: integer (nullable = true)\n",
      " |-- _c1: string (nullable = true)\n",
      " |-- _c2: string (nullable = true)\n",
      " |-- _c3: double (nullable = true)\n",
      " |-- _c4: integer (nullable = true)\n",
      "\n"
     ]
    }
   ],
   "source": [
    "df.printSchema()"
   ]
  },
  {
   "cell_type": "code",
   "execution_count": 6,
   "metadata": {},
   "outputs": [
    {
     "data": {
      "text/plain": [
       "['_c0', '_c1', '_c2', '_c3', '_c4']"
      ]
     },
     "execution_count": 6,
     "metadata": {},
     "output_type": "execute_result"
    }
   ],
   "source": [
    "df.columns"
   ]
  },
  {
   "cell_type": "code",
   "execution_count": 7,
   "metadata": {},
   "outputs": [],
   "source": [
    "df = df.withColumnRenamed('_c0', 'user_id') \\\n",
    "       .withColumnRenamed('_c1', 'name') \\\n",
    "       .withColumnRenamed('_c2', 'action') \\\n",
    "       .withColumnRenamed('_c3', 'hours') \\\n",
    "       .withColumnRenamed('_c4', 'zero')"
   ]
  },
  {
   "cell_type": "code",
   "execution_count": 8,
   "metadata": {},
   "outputs": [
    {
     "name": "stdout",
     "output_type": "stream",
     "text": [
      "root\n",
      " |-- user_id: integer (nullable = true)\n",
      " |-- name: string (nullable = true)\n",
      " |-- action: string (nullable = true)\n",
      " |-- hours: double (nullable = true)\n",
      " |-- zero: integer (nullable = true)\n",
      "\n"
     ]
    }
   ],
   "source": [
    "df.printSchema()"
   ]
  },
  {
   "cell_type": "markdown",
   "metadata": {},
   "source": [
    "shape"
   ]
  },
  {
   "cell_type": "code",
   "execution_count": 9,
   "metadata": {},
   "outputs": [
    {
     "data": {
      "text/plain": [
       "(200000, 5)"
      ]
     },
     "execution_count": 9,
     "metadata": {},
     "output_type": "execute_result"
    }
   ],
   "source": [
    "df.count(), len(df.columns) ## shape"
   ]
  },
  {
   "cell_type": "markdown",
   "metadata": {},
   "source": [
    "null or na values"
   ]
  },
  {
   "cell_type": "code",
   "execution_count": 10,
   "metadata": {},
   "outputs": [
    {
     "name": "stdout",
     "output_type": "stream",
     "text": [
      "+-------+----+------+-----+----+\n",
      "|user_id|name|action|hours|zero|\n",
      "+-------+----+------+-----+----+\n",
      "|      0|   0|     0|    0|   0|\n",
      "+-------+----+------+-----+----+\n",
      "\n"
     ]
    }
   ],
   "source": [
    "df.select([count(when(col(c).isNull(), c)).alias(c) for c in df.columns]).show()"
   ]
  },
  {
   "cell_type": "code",
   "execution_count": 11,
   "metadata": {},
   "outputs": [
    {
     "name": "stderr",
     "output_type": "stream",
     "text": [
      "[Stage 9:===================>                                       (1 + 2) / 3]\r"
     ]
    },
    {
     "name": "stdout",
     "output_type": "stream",
     "text": [
      "+-------+----+------+-----+----+\n",
      "|user_id|name|action|hours|zero|\n",
      "+-------+----+------+-----+----+\n",
      "|      0|   0|     0|    0|   0|\n",
      "+-------+----+------+-----+----+\n",
      "\n"
     ]
    },
    {
     "name": "stderr",
     "output_type": "stream",
     "text": [
      "                                                                                \r"
     ]
    }
   ],
   "source": [
    "columns = ['user_id', 'name', 'action', 'hours', 'zero']\n",
    "\n",
    "df.select([count(when(isnan(col(c)), c)).alias(c) for c in columns]).show()"
   ]
  },
  {
   "cell_type": "markdown",
   "metadata": {},
   "source": [
    "*Duplicate rows*"
   ]
  },
  {
   "cell_type": "code",
   "execution_count": 12,
   "metadata": {},
   "outputs": [
    {
     "name": "stderr",
     "output_type": "stream",
     "text": [
      "[Stage 12:===================>                                      (1 + 2) / 3]\r"
     ]
    },
    {
     "name": "stdout",
     "output_type": "stream",
     "text": [
      "+---------+--------------------+--------+-----+----+-----+\n",
      "|  user_id|                name|  action|hours|zero|count|\n",
      "+---------+--------------------+--------+-----+----+-----+\n",
      "| 86338111|Grand Theft Auto ...|purchase|  1.0|   0|    2|\n",
      "|189858084|Grand Theft Auto ...|purchase|  1.0|   0|    2|\n",
      "|150882304|Sid Meier's Civil...|purchase|  1.0|   0|    2|\n",
      "|189858084|Grand Theft Auto ...|purchase|  1.0|   0|    2|\n",
      "|116617462|Grand Theft Auto ...|purchase|  1.0|   0|    2|\n",
      "| 37422528|Sid Meier's Civil...|purchase|  1.0|   0|    2|\n",
      "|147859903|Sid Meier's Civil...|purchase|  1.0|   0|    2|\n",
      "|138941587|Sid Meier's Civil...|purchase|  1.0|   0|    2|\n",
      "|145825155|Grand Theft Auto ...|purchase|  1.0|   0|    2|\n",
      "|105782521|Sid Meier's Civil...|purchase|  1.0|   0|    2|\n",
      "| 46301758|Sid Meier's Civil...|purchase|  1.0|   0|    2|\n",
      "|179936723|Grand Theft Auto ...|purchase|  1.0|   0|    2|\n",
      "| 64455019|Sid Meier's Civil...|purchase|  1.0|   0|    2|\n",
      "|142650116|Grand Theft Auto ...|purchase|  1.0|   0|    2|\n",
      "| 33013552|Sid Meier's Civil...|purchase|  1.0|   0|    2|\n",
      "| 93275329|Grand Theft Auto III|purchase|  1.0|   0|    2|\n",
      "| 86055705|Grand Theft Auto ...|purchase|  1.0|   0|    2|\n",
      "| 24721232|Grand Theft Auto ...|purchase|  1.0|   0|    2|\n",
      "| 24721232|Sid Meier's Civil...|purchase|  1.0|   0|    2|\n",
      "|105877396|Sid Meier's Civil...|purchase|  1.0|   0|    2|\n",
      "+---------+--------------------+--------+-----+----+-----+\n",
      "only showing top 20 rows\n",
      "\n"
     ]
    },
    {
     "name": "stderr",
     "output_type": "stream",
     "text": [
      "                                                                                \r"
     ]
    }
   ],
   "source": [
    "df.groupBy(columns).count().filter('count > 1').show()"
   ]
  },
  {
   "cell_type": "code",
   "execution_count": 13,
   "metadata": {},
   "outputs": [],
   "source": [
    "df_new = df.dropDuplicates()"
   ]
  },
  {
   "cell_type": "code",
   "execution_count": 14,
   "metadata": {},
   "outputs": [
    {
     "name": "stderr",
     "output_type": "stream",
     "text": [
      "                                                                                \r"
     ]
    },
    {
     "data": {
      "text/plain": [
       "199293"
      ]
     },
     "execution_count": 14,
     "metadata": {},
     "output_type": "execute_result"
    }
   ],
   "source": [
    "df_new.count()"
   ]
  },
  {
   "cell_type": "markdown",
   "metadata": {},
   "source": [
    "*Unique Values*"
   ]
  },
  {
   "cell_type": "code",
   "execution_count": 15,
   "metadata": {},
   "outputs": [
    {
     "name": "stderr",
     "output_type": "stream",
     "text": [
      "[Stage 21:===================>                                      (1 + 2) / 3]\r"
     ]
    },
    {
     "name": "stdout",
     "output_type": "stream",
     "text": [
      "+-------+----+------+-----+----+\n",
      "|user_id|name|action|hours|zero|\n",
      "+-------+----+------+-----+----+\n",
      "|  12393|5155|     2| 1593|   1|\n",
      "+-------+----+------+-----+----+\n",
      "\n"
     ]
    },
    {
     "name": "stderr",
     "output_type": "stream",
     "text": [
      "                                                                                \r"
     ]
    }
   ],
   "source": [
    "df_new.select([countDistinct(c).alias(c) for c in columns]).show()"
   ]
  },
  {
   "cell_type": "code",
   "execution_count": 16,
   "metadata": {},
   "outputs": [],
   "source": [
    "# remove the column zero\n",
    "df_new = df_new.drop('zero')"
   ]
  },
  {
   "cell_type": "markdown",
   "metadata": {},
   "source": [
    "*Analysis*"
   ]
  },
  {
   "cell_type": "code",
   "execution_count": 17,
   "metadata": {},
   "outputs": [
    {
     "name": "stdout",
     "output_type": "stream",
     "text": [
      "+--------------------+-----------+\n",
      "|                name|users_count|\n",
      "+--------------------+-----------+\n",
      "|              Dota 2|       9682|\n",
      "|     Team Fortress 2|       4646|\n",
      "|Counter-Strike Gl...|       2789|\n",
      "|            Unturned|       2632|\n",
      "|       Left 4 Dead 2|       1752|\n",
      "|Counter-Strike So...|       1693|\n",
      "|      Counter-Strike|       1424|\n",
      "|         Garry's Mod|       1397|\n",
      "|The Elder Scrolls...|       1394|\n",
      "|            Warframe|       1271|\n",
      "|Half-Life 2 Lost ...|       1158|\n",
      "|Sid Meier's Civil...|       1150|\n",
      "|           Robocraft|       1096|\n",
      "|Half-Life 2 Death...|       1021|\n",
      "|              Portal|       1005|\n",
      "|            Portal 2|        997|\n",
      "|         Half-Life 2|        995|\n",
      "|   Heroes & Generals|        993|\n",
      "|            Terraria|        956|\n",
      "|Counter-Strike Co...|        904|\n",
      "+--------------------+-----------+\n",
      "\n"
     ]
    }
   ],
   "source": [
    "df.groupBy('name')\\\n",
    "    .agg(count('user_id').alias('users_count'))\\\n",
    "    .orderBy('users_count', ascending = False)\\\n",
    "    .limit(20)\\\n",
    "    .show()"
   ]
  },
  {
   "cell_type": "code",
   "execution_count": 18,
   "metadata": {},
   "outputs": [
    {
     "name": "stdout",
     "output_type": "stream",
     "text": [
      "+--------------------+-------------------+\n",
      "|                name|count_user_purchase|\n",
      "+--------------------+-------------------+\n",
      "|              Dota 2|               4841|\n",
      "|     Team Fortress 2|               2323|\n",
      "|            Unturned|               1563|\n",
      "|Counter-Strike Gl...|               1412|\n",
      "|Half-Life 2 Lost ...|                981|\n",
      "|Counter-Strike So...|                978|\n",
      "|       Left 4 Dead 2|                951|\n",
      "|      Counter-Strike|                856|\n",
      "|            Warframe|                847|\n",
      "|Half-Life 2 Death...|                823|\n",
      "|         Garry's Mod|                731|\n",
      "|The Elder Scrolls...|                717|\n",
      "|           Robocraft|                689|\n",
      "|Counter-Strike Co...|                679|\n",
      "|Counter-Strike Co...|                679|\n",
      "|   Heroes & Generals|                658|\n",
      "|         Half-Life 2|                639|\n",
      "|Sid Meier's Civil...|                596|\n",
      "|         War Thunder|                590|\n",
      "|              Portal|                588|\n",
      "+--------------------+-------------------+\n",
      "\n"
     ]
    },
    {
     "name": "stderr",
     "output_type": "stream",
     "text": [
      "                                                                                \r"
     ]
    }
   ],
   "source": [
    "df.filter(col('action') == 'purchase') \\\n",
    "  .groupBy('name') \\\n",
    "  .agg(count('user_id').alias('count_user_purchase')) \\\n",
    "  .orderBy('count_user_purchase', ascending=False) \\\n",
    "  .limit(20) \\\n",
    "  .show()"
   ]
  },
  {
   "cell_type": "code",
   "execution_count": 19,
   "metadata": {},
   "outputs": [
    {
     "name": "stdout",
     "output_type": "stream",
     "text": [
      "+--------------------+---------------+\n",
      "|                name|count_user_play|\n",
      "+--------------------+---------------+\n",
      "|              Dota 2|           4841|\n",
      "|     Team Fortress 2|           2323|\n",
      "|Counter-Strike Gl...|           1377|\n",
      "|            Unturned|           1069|\n",
      "|       Left 4 Dead 2|            801|\n",
      "|Counter-Strike So...|            715|\n",
      "|The Elder Scrolls...|            677|\n",
      "|         Garry's Mod|            666|\n",
      "|      Counter-Strike|            568|\n",
      "|Sid Meier's Civil...|            554|\n",
      "|            Terraria|            460|\n",
      "|            Portal 2|            453|\n",
      "|            Warframe|            424|\n",
      "|              Portal|            417|\n",
      "|           Robocraft|            407|\n",
      "|            PAYDAY 2|            390|\n",
      "|       Borderlands 2|            386|\n",
      "|         Half-Life 2|            356|\n",
      "|   Heroes & Generals|            335|\n",
      "|         War Thunder|            303|\n",
      "+--------------------+---------------+\n",
      "\n"
     ]
    }
   ],
   "source": [
    "df.filter(col('action') == 'play') \\\n",
    "  .groupBy('name') \\\n",
    "  .agg(count('user_id').alias('count_user_play')) \\\n",
    "  .orderBy('count_user_play', ascending=False) \\\n",
    "  .limit(20) \\\n",
    "  .show()"
   ]
  },
  {
   "cell_type": "code",
   "execution_count": 20,
   "metadata": {},
   "outputs": [
    {
     "name": "stderr",
     "output_type": "stream",
     "text": [
      "[Stage 36:===================>                                      (1 + 2) / 3]\r"
     ]
    },
    {
     "name": "stdout",
     "output_type": "stream",
     "text": [
      "+--------------------+----------+\n",
      "|                name|total_play|\n",
      "+--------------------+----------+\n",
      "|              Dota 2|  981684.6|\n",
      "|Counter-Strike Gl...|  322771.6|\n",
      "|     Team Fortress 2|  173673.3|\n",
      "|      Counter-Strike|  134261.1|\n",
      "|Sid Meier's Civil...|   99821.3|\n",
      "|Counter-Strike So...|   96075.5|\n",
      "|The Elder Scrolls...|   70889.3|\n",
      "|         Garry's Mod|   49725.3|\n",
      "|Call of Duty Mode...|   42009.9|\n",
      "|       Left 4 Dead 2|   33596.7|\n",
      "|Football Manager ...|   32308.6|\n",
      "|Football Manager ...|   30845.8|\n",
      "|Football Manager ...|   30574.8|\n",
      "|            Terraria|   29951.8|\n",
      "|            Warframe|   27074.6|\n",
      "|Football Manager ...|   24283.1|\n",
      "|              Arma 3|   24055.7|\n",
      "|  Grand Theft Auto V|   22956.7|\n",
      "|       Borderlands 2|   22667.9|\n",
      "|    Empire Total War|   21030.3|\n",
      "+--------------------+----------+\n",
      "only showing top 20 rows\n",
      "\n"
     ]
    },
    {
     "name": "stderr",
     "output_type": "stream",
     "text": [
      "                                                                                \r"
     ]
    }
   ],
   "source": [
    "df.filter(col('action') == 'play') \\\n",
    "  .groupBy('name') \\\n",
    "  .agg(round(sum('hours'), 2).alias('total_play')) \\\n",
    "  .orderBy('total_play', ascending = False) \\\n",
    "  .limit(50) \\\n",
    "  .show()"
   ]
  },
  {
   "cell_type": "markdown",
   "metadata": {},
   "source": [
    "### Data prep for recommedation systems"
   ]
  },
  {
   "cell_type": "code",
   "execution_count": 21,
   "metadata": {},
   "outputs": [
    {
     "data": {
      "text/plain": [
       "128804"
      ]
     },
     "execution_count": 21,
     "metadata": {},
     "output_type": "execute_result"
    }
   ],
   "source": [
    "df_purchase = df_new.filter(col('action') == 'purchase')\n",
    "df_purchase.count()"
   ]
  },
  {
   "cell_type": "code",
   "execution_count": 22,
   "metadata": {},
   "outputs": [
    {
     "name": "stderr",
     "output_type": "stream",
     "text": [
      "[Stage 45:===================>                                      (1 + 2) / 3]\r"
     ]
    },
    {
     "name": "stdout",
     "output_type": "stream",
     "text": [
      "+-----------------------+\n",
      "|count(DISTINCT user_id)|\n",
      "+-----------------------+\n",
      "|                  12393|\n",
      "+-----------------------+\n",
      "\n"
     ]
    },
    {
     "name": "stderr",
     "output_type": "stream",
     "text": [
      "                                                                                \r"
     ]
    }
   ],
   "source": [
    "df_purchase.select(countDistinct('user_id')).show()\n",
    "df_purchase = df_purchase.withColumnRenamed('action', 'action_pur') \\\n",
    "                         .withColumnRenamed('hours', 'purchase')"
   ]
  },
  {
   "cell_type": "code",
   "execution_count": 23,
   "metadata": {},
   "outputs": [
    {
     "data": {
      "text/plain": [
       "70489"
      ]
     },
     "execution_count": 23,
     "metadata": {},
     "output_type": "execute_result"
    }
   ],
   "source": [
    "df_play = df_new.filter(col('action') == 'play')\n",
    "df_play.count()"
   ]
  },
  {
   "cell_type": "code",
   "execution_count": 24,
   "metadata": {},
   "outputs": [
    {
     "name": "stdout",
     "output_type": "stream",
     "text": [
      "+-----------------------+\n",
      "|count(DISTINCT user_id)|\n",
      "+-----------------------+\n",
      "|                  11350|\n",
      "+-----------------------+\n",
      "\n"
     ]
    }
   ],
   "source": [
    "df_play.select(countDistinct('user_id')).show()"
   ]
  },
  {
   "cell_type": "code",
   "execution_count": 25,
   "metadata": {},
   "outputs": [],
   "source": [
    "full_df = df_purchase.join(df_play, [\"user_id\", \"name\"], \"outer\")"
   ]
  },
  {
   "cell_type": "code",
   "execution_count": 26,
   "metadata": {},
   "outputs": [
    {
     "name": "stderr",
     "output_type": "stream",
     "text": [
      "                                                                                \r"
     ]
    },
    {
     "data": {
      "text/plain": [
       "128816"
      ]
     },
     "execution_count": 26,
     "metadata": {},
     "output_type": "execute_result"
    }
   ],
   "source": [
    "full_df.count()"
   ]
  },
  {
   "cell_type": "code",
   "execution_count": 27,
   "metadata": {},
   "outputs": [],
   "source": [
    "new_columns = full_df.columns"
   ]
  },
  {
   "cell_type": "code",
   "execution_count": 28,
   "metadata": {},
   "outputs": [
    {
     "name": "stdout",
     "output_type": "stream",
     "text": [
      "+-------+----+----------+--------+------+-----+\n",
      "|user_id|name|action_pur|purchase|action|hours|\n",
      "+-------+----+----------+--------+------+-----+\n",
      "|  12393|5155|         1|       1|     1| 1593|\n",
      "+-------+----+----------+--------+------+-----+\n",
      "\n"
     ]
    }
   ],
   "source": [
    "full_df_unique = full_df.select([countDistinct(c).alias(c) for c in new_columns]).show()"
   ]
  },
  {
   "cell_type": "code",
   "execution_count": 29,
   "metadata": {},
   "outputs": [
    {
     "name": "stdout",
     "output_type": "stream",
     "text": [
      "+-------+----+----------+--------+------+-----+\n",
      "|user_id|name|action_pur|purchase|action|hours|\n",
      "+-------+----+----------+--------+------+-----+\n",
      "|      0|   0|         0|       0| 58327|58327|\n",
      "+-------+----+----------+--------+------+-----+\n",
      "\n"
     ]
    }
   ],
   "source": [
    "full_df.select([count(when(col(c).isNull(), c)).alias(c) for c in new_columns]).show()"
   ]
  },
  {
   "cell_type": "code",
   "execution_count": 30,
   "metadata": {},
   "outputs": [],
   "source": [
    "data = full_df.fillna(0, subset=['hours'])"
   ]
  },
  {
   "cell_type": "code",
   "execution_count": 31,
   "metadata": {},
   "outputs": [],
   "source": [
    "data = data.drop(\"action_pur\", \"purchase\", \"action\")"
   ]
  },
  {
   "cell_type": "code",
   "execution_count": 32,
   "metadata": {},
   "outputs": [
    {
     "name": "stdout",
     "output_type": "stream",
     "text": [
      "+-------+------------------+\n",
      "|summary|             hours|\n",
      "+-------+------------------+\n",
      "|  count|            128816|\n",
      "|   mean|26.746411936405334|\n",
      "| stddev|171.38236775962963|\n",
      "|    min|               0.0|\n",
      "|    max|           11754.0|\n",
      "+-------+------------------+\n",
      "\n"
     ]
    }
   ],
   "source": [
    "data.describe(\"hours\").show()"
   ]
  },
  {
   "cell_type": "code",
   "execution_count": 33,
   "metadata": {},
   "outputs": [
    {
     "name": "stderr",
     "output_type": "stream",
     "text": [
      "                                                                                \r"
     ]
    }
   ],
   "source": [
    "min_hours = data.select(min(\"hours\")).collect()[0][0]\n",
    "max_hours = data.select(max(\"hours\")).collect()[0][0]\n",
    "\n",
    "data = data.withColumn(\"normalized_hours\", (col(\"hours\") - min_hours) / (max_hours - min_hours))"
   ]
  },
  {
   "cell_type": "markdown",
   "metadata": {},
   "source": [
    "## Recommender Systems"
   ]
  },
  {
   "cell_type": "markdown",
   "metadata": {},
   "source": [
    "### 1) ALS - Pyspark"
   ]
  },
  {
   "cell_type": "code",
   "execution_count": 34,
   "metadata": {},
   "outputs": [
    {
     "name": "stderr",
     "output_type": "stream",
     "text": [
      "                                                                                \r"
     ]
    }
   ],
   "source": [
    "indexer = StringIndexer(inputCol=\"name\", outputCol=\"game_id\")\n",
    "data_indexed = indexer.fit(data).transform(data)"
   ]
  },
  {
   "cell_type": "markdown",
   "metadata": {},
   "source": [
    "*Train - Test Split*"
   ]
  },
  {
   "cell_type": "code",
   "execution_count": 35,
   "metadata": {},
   "outputs": [],
   "source": [
    "(train_set, test_set) = data_indexed.randomSplit([0.8, 0.2])"
   ]
  },
  {
   "cell_type": "markdown",
   "metadata": {},
   "source": [
    "*Model Selection - Hyperparameter Tunning*"
   ]
  },
  {
   "cell_type": "code",
   "execution_count": 36,
   "metadata": {},
   "outputs": [
    {
     "name": "stderr",
     "output_type": "stream",
     "text": [
      "24/10/20 14:50:31 WARN InstanceBuilder: Failed to load implementation from:dev.ludovic.netlib.blas.JNIBLAS\n",
      "24/10/20 14:50:31 WARN InstanceBuilder: Failed to load implementation from:dev.ludovic.netlib.lapack.JNILAPACK\n",
      "                                                                                ]]\r"
     ]
    }
   ],
   "source": [
    "# the als model \n",
    "als = ALS(userCol=\"user_id\", itemCol=\"game_id\", ratingCol=\"normalized_hours\", implicitPrefs=True, coldStartStrategy='drop') #Note we set cold start strategy to 'drop' \n",
    "#to ensure we don't get NaN evaluation metrics\n",
    "\n",
    "# the parameter grid\n",
    "paramGrid = ParamGridBuilder() \\\n",
    "  .addGrid(als.maxIter, [5, 10, 15]) \\\n",
    "  .addGrid(als.regParam, [0.01, 0.05, 0.1]) \\\n",
    "  .build()\n",
    "\n",
    "# cross-validator\n",
    "crossval = CrossValidator(estimator=als, estimatorParamMaps=paramGrid, evaluator=RegressionEvaluator(metricName=\"rmse\", labelCol=\"normalized_hours\", predictionCol=\"prediction\"), numFolds=5, seed=42)\n",
    "\n",
    "# Fit the cross-validator to the training data\n",
    "cvModel = crossval.fit(train_set)"
   ]
  },
  {
   "cell_type": "code",
   "execution_count": 37,
   "metadata": {},
   "outputs": [
    {
     "name": "stdout",
     "output_type": "stream",
     "text": [
      "Best maxIter: 5\n",
      "Best regParam: 0.1\n"
     ]
    }
   ],
   "source": [
    "# best model\n",
    "bestModel = cvModel.bestModel\n",
    "\n",
    "# Parameter map\n",
    "paramMap = bestModel.extractParamMap()\n",
    "\n",
    "# best params\n",
    "best_maxIter = bestModel._java_obj.parent().getMaxIter()\n",
    "best_regParam = bestModel._java_obj.parent().getRegParam()\n",
    "\n",
    "print(\"Best maxIter:\", best_maxIter)\n",
    "print(\"Best regParam:\", best_regParam)\n"
   ]
  },
  {
   "cell_type": "markdown",
   "metadata": {},
   "source": [
    "*Model Training*"
   ]
  },
  {
   "cell_type": "code",
   "execution_count": 38,
   "metadata": {},
   "outputs": [],
   "source": [
    "als_best = ALS(maxIter=best_maxIter, regParam=best_regParam, userCol=\"user_id\", itemCol=\"game_id\",\n",
    "                ratingCol=\"normalized_hours\", implicitPrefs=True, coldStartStrategy=\"drop\")\n",
    "als_best = als_best.fit(train_set)"
   ]
  },
  {
   "cell_type": "markdown",
   "metadata": {},
   "source": [
    "*Making predictions*"
   ]
  },
  {
   "cell_type": "code",
   "execution_count": 39,
   "metadata": {},
   "outputs": [],
   "source": [
    "predictions_als = als_best.transform(test_set)"
   ]
  },
  {
   "cell_type": "markdown",
   "metadata": {},
   "source": [
    "*Model Evaluation*"
   ]
  },
  {
   "cell_type": "code",
   "execution_count": 40,
   "metadata": {},
   "outputs": [
    {
     "name": "stdout",
     "output_type": "stream",
     "text": [
      "RMSE of ALS: 0.10058599364198913\n"
     ]
    }
   ],
   "source": [
    "evaluator_als = RegressionEvaluator(metricName=\"rmse\", labelCol=\"normalized_hours\", predictionCol=\"prediction\")\n",
    "rmse_als = evaluator_als.evaluate(predictions_als)\n",
    "print('RMSE of ALS:', rmse_als)"
   ]
  },
  {
   "cell_type": "markdown",
   "metadata": {},
   "source": [
    "*Model Training by using all data to get recommendations*"
   ]
  },
  {
   "cell_type": "code",
   "execution_count": 41,
   "metadata": {},
   "outputs": [],
   "source": [
    "als_best = ALS(maxIter=best_maxIter, regParam=best_regParam, userCol=\"user_id\", itemCol=\"game_id\",\n",
    "                ratingCol=\"normalized_hours\", implicitPrefs=True, coldStartStrategy=\"drop\")\n",
    "als_full_model = als_best.fit(data_indexed)"
   ]
  },
  {
   "cell_type": "markdown",
   "metadata": {},
   "source": [
    "*Recommender System*"
   ]
  },
  {
   "cell_type": "code",
   "execution_count": 42,
   "metadata": {},
   "outputs": [
    {
     "name": "stderr",
     "output_type": "stream",
     "text": [
      "[Stage 24075:==================================================> (98 + 2) / 100]\r"
     ]
    },
    {
     "name": "stdout",
     "output_type": "stream",
     "text": [
      "+--------+--------------------+\n",
      "| user_id|     recommendations|\n",
      "+--------+--------------------+\n",
      "|   76767|[{44, 0.8302596},...|\n",
      "|  144736|[{7, 0.64719903},...|\n",
      "|  229911|[{7, 0.809055}, {...|\n",
      "|  835015|[{49, 0.0}, {48, ...|\n",
      "|  948368|[{5, 0.7349485}, ...|\n",
      "|  975449|[{20, 0.70236766}...|\n",
      "| 1268792|[{7, 0.64720684},...|\n",
      "| 2531540|[{5, 0.5835752}, ...|\n",
      "| 2753525|[{3, 0.614613}, {...|\n",
      "| 3450426|[{7, 0.7381111}, ...|\n",
      "| 7923954|[{7, 0.6472029}, ...|\n",
      "| 7987640|[{49, 0.0}, {48, ...|\n",
      "| 8259307|[{11, 0.46094027}...|\n",
      "| 8567888|[{5, 0.6576412}, ...|\n",
      "| 8585433|[{11, 0.60877556}...|\n",
      "| 8784496|[{1, 0.4540149}, ...|\n",
      "| 8795607|[{5, 0.6497613}, ...|\n",
      "|10144413|[{49, 0.0}, {48, ...|\n",
      "|10595342|[{5, 0.9260915}, ...|\n",
      "|10599862|[{11, 0.9111481},...|\n",
      "+--------+--------------------+\n",
      "only showing top 20 rows\n",
      "\n"
     ]
    },
    {
     "name": "stderr",
     "output_type": "stream",
     "text": [
      "                                                                                \r"
     ]
    }
   ],
   "source": [
    "user_recommendations = als_full_model.recommendForAllUsers(5)\n",
    "user_recommendations.show()"
   ]
  },
  {
   "cell_type": "code",
   "execution_count": 43,
   "metadata": {},
   "outputs": [
    {
     "name": "stdout",
     "output_type": "stream",
     "text": [
      "root\n",
      " |-- user_id: integer (nullable = false)\n",
      " |-- recommendations: array (nullable = true)\n",
      " |    |-- element: struct (containsNull = true)\n",
      " |    |    |-- game_id: integer (nullable = true)\n",
      " |    |    |-- rating: float (nullable = true)\n",
      "\n"
     ]
    }
   ],
   "source": [
    "user_recommendations.printSchema()"
   ]
  },
  {
   "cell_type": "markdown",
   "metadata": {},
   "source": [
    "According to the schema of the data, the recommendations column contains an array, and each element is a struct. Each struct includes two fields: game_id (an integer) and rating (a float)."
   ]
  },
  {
   "cell_type": "code",
   "execution_count": 44,
   "metadata": {},
   "outputs": [],
   "source": [
    "recommendations_exploded = user_recommendations.withColumn(\"recommendation\", explode(\"recommendations\"))"
   ]
  },
  {
   "cell_type": "code",
   "execution_count": 45,
   "metadata": {},
   "outputs": [],
   "source": [
    "recommendations_als = recommendations_exploded.select(\"user_id\", \"recommendation.game_id\", \"recommendation.rating\")"
   ]
  },
  {
   "cell_type": "code",
   "execution_count": 46,
   "metadata": {},
   "outputs": [],
   "source": [
    "game_id_name = data_indexed[['name', 'game_id']]"
   ]
  },
  {
   "cell_type": "code",
   "execution_count": 47,
   "metadata": {},
   "outputs": [
    {
     "data": {
      "text/plain": [
       "128816"
      ]
     },
     "execution_count": 47,
     "metadata": {},
     "output_type": "execute_result"
    }
   ],
   "source": [
    "game_id_name.count()"
   ]
  },
  {
   "cell_type": "code",
   "execution_count": 48,
   "metadata": {},
   "outputs": [],
   "source": [
    "game_id_name = game_id_name.drop_duplicates()"
   ]
  },
  {
   "cell_type": "code",
   "execution_count": 49,
   "metadata": {},
   "outputs": [
    {
     "data": {
      "text/plain": [
       "5155"
      ]
     },
     "execution_count": 49,
     "metadata": {},
     "output_type": "execute_result"
    }
   ],
   "source": [
    "game_id_name.count()"
   ]
  },
  {
   "cell_type": "code",
   "execution_count": 50,
   "metadata": {},
   "outputs": [],
   "source": [
    "recommendations_als = recommendations_als.join(game_id_name, on='game_id', how='left')"
   ]
  },
  {
   "cell_type": "code",
   "execution_count": 51,
   "metadata": {},
   "outputs": [],
   "source": [
    "recommendations_als = recommendations_als.orderBy(['user_id', 'rating'], ascending =[True, False])"
   ]
  },
  {
   "cell_type": "code",
   "execution_count": 52,
   "metadata": {},
   "outputs": [
    {
     "name": "stderr",
     "output_type": "stream",
     "text": [
      "                                                                                \r"
     ]
    },
    {
     "name": "stdout",
     "output_type": "stream",
     "text": [
      "+-------+-------+----------+--------------------+\n",
      "|game_id|user_id|    rating|                name|\n",
      "+-------+-------+----------+--------------------+\n",
      "|      1|   5250|  0.726252|     Team Fortress 2|\n",
      "|      0|   5250| 0.6869544|              Dota 2|\n",
      "|     19|   5250|0.14574155|              Portal|\n",
      "|      6|   5250|0.13253117|       Left 4 Dead 2|\n",
      "|     16|   5250|0.12955722|         Half-Life 2|\n",
      "|     44|  76767| 0.8302596|Call of Duty Mode...|\n",
      "|     45|  76767| 0.8122936|Call of Duty Mode...|\n",
      "|     69|  76767| 0.5927692|Call of Duty Blac...|\n",
      "|     70|  76767|0.55496377|Call of Duty Blac...|\n",
      "|      7|  76767| 0.5214544|      Counter-Strike|\n",
      "+-------+-------+----------+--------------------+\n",
      "only showing top 10 rows\n",
      "\n"
     ]
    }
   ],
   "source": [
    "recommendations_als.show(10)"
   ]
  },
  {
   "cell_type": "markdown",
   "metadata": {},
   "source": [
    "A function to find recommended games for a specific user"
   ]
  },
  {
   "cell_type": "code",
   "execution_count": 53,
   "metadata": {},
   "outputs": [],
   "source": [
    "def print_recommendation_als (user_id):\n",
    "    \"\"\"\n",
    "    A function to find and print the recommended games for a specific user.\n",
    "\n",
    "    Parameters:\n",
    "    - user_id (int): The ID of the user for whom the game recommendations will be retrieved.\n",
    "\n",
    "    The function filters the DataFrame based on the provided user_id and retrieves the game names associated with the recommendations for that user. It then prints the names of the recommended games in a numbered list.\n",
    "    \"\"\"\n",
    "    recommend_filtered = recommendations_als.filter(col('user_id') == user_id).select('name')\n",
    "    print(f\"User ID: {user_id}\")\n",
    "    recommended_games = recommend_filtered.collect()\n",
    "    print('The list of all recommended games:')\n",
    "    for i, row in enumerate(recommended_games, 1):\n",
    "        print(f\"{i}. {row['name']}\")\n",
    "\n",
    "    "
   ]
  },
  {
   "cell_type": "code",
   "execution_count": 54,
   "metadata": {},
   "outputs": [
    {
     "name": "stdout",
     "output_type": "stream",
     "text": [
      "User ID: 1423371\n"
     ]
    },
    {
     "name": "stderr",
     "output_type": "stream",
     "text": [
      "                                                                                \r"
     ]
    },
    {
     "name": "stdout",
     "output_type": "stream",
     "text": [
      "The list of all recommended games:\n",
      "1. Counter-Strike Global Offensive\n",
      "2. Left 4 Dead 2\n",
      "3. Garry's Mod\n",
      "4. PAYDAY 2\n",
      "5. Unturned\n"
     ]
    }
   ],
   "source": [
    "print_recommendation_als(user_id = 1423371) ## example"
   ]
  },
  {
   "cell_type": "markdown",
   "metadata": {},
   "source": [
    "### 2) Neural Collaborative Filtering (NCF) - Tensorflow --- NeuMF"
   ]
  },
  {
   "cell_type": "markdown",
   "metadata": {},
   "source": [
    "*Data Prep*"
   ]
  },
  {
   "cell_type": "code",
   "execution_count": 55,
   "metadata": {},
   "outputs": [],
   "source": [
    "# Collecting Data and Mapping User/Game IDs to Indexes\n",
    "ncf_data = data_indexed.select('user_id', 'name', 'normalized_hours').collect() \n",
    "user_ids = data_indexed.select('user_id').distinct().rdd.flatMap(lambda x:x).collect()\n",
    "game_names = data_indexed.select('name').distinct().rdd.flatMap(lambda x:x).collect()"
   ]
  },
  {
   "cell_type": "code",
   "execution_count": 62,
   "metadata": {},
   "outputs": [],
   "source": [
    "# Mapping User and Game IDs to Indexes\n",
    "userid_to_index = {user_id: index for index, user_id in enumerate(user_ids)}\n",
    "game_to_index = {name: index for index, name in enumerate(game_names)}"
   ]
  },
  {
   "cell_type": "code",
   "execution_count": 64,
   "metadata": {},
   "outputs": [
    {
     "name": "stderr",
     "output_type": "stream",
     "text": [
      "/Users/gulsumasenacakir/recommenderSystems-SteamVideoGames/recom_tfrs/lib/python3.12/site-packages/pyspark/python/lib/pyspark.zip/pyspark/daemon.py:154: DeprecationWarning: This process (pid=11243) is multi-threaded, use of fork() may lead to deadlocks in the child.\n",
      "                                                                                \r"
     ]
    },
    {
     "name": "stdout",
     "output_type": "stream",
     "text": [
      "+-------+--------------------+-----+--------------------+-------+----------+----------+\n",
      "|user_id|                name|hours|    normalized_hours|game_id|user_index|game_index|\n",
      "+-------+--------------------+-----+--------------------+-------+----------+----------+\n",
      "|   5250|     Cities Skylines|144.0| 0.01225114854517611|  198.0|      5039|      2500|\n",
      "|   5250|      Counter-Strike|  0.0|                 0.0|    7.0|      5039|      2653|\n",
      "|   5250|Counter-Strike So...|  0.0|                 0.0|    5.0|      5039|        30|\n",
      "|   5250|       Day of Defeat|  0.0|                 0.0|   21.0|      5039|      1449|\n",
      "|   5250|              Dota 2|  0.2|1.701548409052237...|    0.0|      5039|         0|\n",
      "|   5250|Half-Life 2 Episo...|  0.0|                 0.0|   30.0|      5039|      2137|\n",
      "|   5250|Half-Life Blue Shift|  0.0|                 0.0|   40.0|      5039|       321|\n",
      "|   5250|Half-Life Opposin...|  0.0|                 0.0|   36.0|      5039|      1094|\n",
      "|  76767|Age of Empires II...| 13.1|0.001114514207929...|   83.0|       594|      2930|\n",
      "|  76767|         Alien Swarm|  0.8|6.806193636208951E-5|   54.0|       594|      2424|\n",
      "|  76767|Call of Duty Blac...| 12.5|0.001063467755657...|   70.0|       594|      1669|\n",
      "|  76767|Call of Duty Mode...| 65.0|0.005530032329419772|   44.0|       594|      2768|\n",
      "|  76767|Counter-Strike Gl...|  3.5|2.977709715841416E-4|    3.0|       594|      1702|\n",
      "|  76767|Counter-Strike So...| 25.0|0.002126935511315297|    5.0|       594|        30|\n",
      "|  76767|           Half-Life|  1.2|1.020929045431342...|   32.0|       594|      1716|\n",
      "|  76767|               Thief|  0.0|                 0.0|  254.0|       594|      2057|\n",
      "|  76767|             Thief 2|  0.0|                 0.0|  870.0|       594|      1095|\n",
      "|  86540|              Arma 2|  0.0|                 0.0|   60.0|      1163|       432|\n",
      "|  86540|Arma 2 Operation ...|  0.0|                 0.0|   71.0|      1163|       872|\n",
      "|  86540|           Audiosurf| 57.0|0.004849412965798877|  282.0|      1163|      2511|\n",
      "+-------+--------------------+-----+--------------------+-------+----------+----------+\n",
      "only showing top 20 rows\n",
      "\n"
     ]
    }
   ],
   "source": [
    "# Functions to Map Users and Games to Indexes\n",
    "def get_user_index(user_id):\n",
    "    return userid_to_index.get(user_id, -1)\n",
    "\n",
    "def get_game_index(game_name):\n",
    "    return game_to_index.get(game_name, -1)\n",
    "  \n",
    "# Creating UDFs (User Defined Functions) to Use in PySpark\n",
    "user_index_udf = udf(get_user_index, IntegerType())\n",
    "game_index_udf = udf(get_game_index, IntegerType())\n",
    "\n",
    "# Applying the UDFs to the DataFrame\n",
    "indexed_user_data = data_indexed.withColumn(\"user_index\", user_index_udf(data_indexed[\"user_id\"]))\n",
    "indexed_user_data = indexed_user_data.withColumn(\"game_index\", game_index_udf(indexed_user_data[\"name\"]))\n",
    "\n",
    "indexed_user_data.show()"
   ]
  },
  {
   "cell_type": "code",
   "execution_count": 66,
   "metadata": {},
   "outputs": [
    {
     "name": "stderr",
     "output_type": "stream",
     "text": [
      "                                                                                \r"
     ]
    }
   ],
   "source": [
    "# Converting Data to NumPy Arrays\n",
    "X = np.array(indexed_user_data.select(\"user_index\", \"game_index\").collect())\n",
    "y = np.array(indexed_user_data.select(\"normalized_hours\").collect())"
   ]
  },
  {
   "cell_type": "markdown",
   "metadata": {},
   "source": [
    "*Model*"
   ]
  },
  {
   "cell_type": "code",
   "execution_count": 67,
   "metadata": {},
   "outputs": [],
   "source": [
    "class NCFModel(Model):\n",
    "    def __init__(self, num_users, num_games, embedding_dim=8):\n",
    "        super(NCFModel, self).__init__()\n",
    "        \n",
    "        # embedding layers for users and games\n",
    "        self.user_embedding = layers.Embedding(num_users, embedding_dim)\n",
    "        self.game_embedding = layers.Embedding(num_games, embedding_dim)\n",
    "\n",
    "        # MLP (Multi-Layer Perceptron) layers\n",
    "        self.fc1 = layers.Dense(64, activation='relu')\n",
    "        self.fc2 = layers.Dense(32, activation='relu')\n",
    "        self.fc3 = layers.Dense(1, activation='sigmoid')\n",
    "\n",
    "    def call(self, inputs):\n",
    "        user_vector = self.user_embedding(inputs[:, 0])\n",
    "        game_vector = self.game_embedding(inputs[:, 1])\n",
    "\n",
    "        # merge embeddings\n",
    "        interaction = layers.concatenate([user_vector, game_vector])\n",
    "\n",
    "        # Fully Connected layers\n",
    "        x = self.fc1(interaction)\n",
    "        x = self.fc2(x)\n",
    "        return self.fc3(x)\n"
   ]
  },
  {
   "cell_type": "code",
   "execution_count": 72,
   "metadata": {},
   "outputs": [],
   "source": [
    "#model\n",
    "embedding_dim = 32\n",
    "num_users = len(user_ids)\n",
    "num_games = len(game_names)\n",
    "\n",
    "model_ncf = NCFModel(num_users, num_games, embedding_dim)"
   ]
  },
  {
   "cell_type": "code",
   "execution_count": 73,
   "metadata": {},
   "outputs": [
    {
     "name": "stdout",
     "output_type": "stream",
     "text": [
      "Epoch 1/10\n",
      "\u001b[1m4026/4026\u001b[0m \u001b[32m━━━━━━━━━━━━━━━━━━━━\u001b[0m\u001b[37m\u001b[0m \u001b[1m7s\u001b[0m 2ms/step - loss: 0.0144 - mae: 0.0435\n",
      "Epoch 2/10\n",
      "\u001b[1m4026/4026\u001b[0m \u001b[32m━━━━━━━━━━━━━━━━━━━━\u001b[0m\u001b[37m\u001b[0m \u001b[1m6s\u001b[0m 2ms/step - loss: 1.8845e-04 - mae: 0.0032\n",
      "Epoch 3/10\n",
      "\u001b[1m4026/4026\u001b[0m \u001b[32m━━━━━━━━━━━━━━━━━━━━\u001b[0m\u001b[37m\u001b[0m \u001b[1m7s\u001b[0m 2ms/step - loss: 1.9613e-04 - mae: 0.0034\n",
      "Epoch 4/10\n",
      "\u001b[1m4026/4026\u001b[0m \u001b[32m━━━━━━━━━━━━━━━━━━━━\u001b[0m\u001b[37m\u001b[0m \u001b[1m7s\u001b[0m 2ms/step - loss: 2.0625e-04 - mae: 0.0032\n",
      "Epoch 5/10\n",
      "\u001b[1m4026/4026\u001b[0m \u001b[32m━━━━━━━━━━━━━━━━━━━━\u001b[0m\u001b[37m\u001b[0m \u001b[1m6s\u001b[0m 2ms/step - loss: 2.0204e-04 - mae: 0.0032\n",
      "Epoch 6/10\n",
      "\u001b[1m4026/4026\u001b[0m \u001b[32m━━━━━━━━━━━━━━━━━━━━\u001b[0m\u001b[37m\u001b[0m \u001b[1m6s\u001b[0m 2ms/step - loss: 1.8206e-04 - mae: 0.0033\n",
      "Epoch 7/10\n",
      "\u001b[1m4026/4026\u001b[0m \u001b[32m━━━━━━━━━━━━━━━━━━━━\u001b[0m\u001b[37m\u001b[0m \u001b[1m6s\u001b[0m 1ms/step - loss: 1.8975e-04 - mae: 0.0032\n",
      "Epoch 8/10\n",
      "\u001b[1m4026/4026\u001b[0m \u001b[32m━━━━━━━━━━━━━━━━━━━━\u001b[0m\u001b[37m\u001b[0m \u001b[1m6s\u001b[0m 2ms/step - loss: 1.9784e-04 - mae: 0.0032\n",
      "Epoch 9/10\n",
      "\u001b[1m4026/4026\u001b[0m \u001b[32m━━━━━━━━━━━━━━━━━━━━\u001b[0m\u001b[37m\u001b[0m \u001b[1m6s\u001b[0m 2ms/step - loss: 1.4395e-04 - mae: 0.0031\n",
      "Epoch 10/10\n",
      "\u001b[1m4026/4026\u001b[0m \u001b[32m━━━━━━━━━━━━━━━━━━━━\u001b[0m\u001b[37m\u001b[0m \u001b[1m6s\u001b[0m 1ms/step - loss: 1.5464e-04 - mae: 0.0030\n"
     ]
    },
    {
     "data": {
      "text/plain": [
       "<keras.src.callbacks.history.History at 0x30c5f42c0>"
      ]
     },
     "execution_count": 73,
     "metadata": {},
     "output_type": "execute_result"
    }
   ],
   "source": [
    "model_ncf.compile(optimizer='adam', loss='mean_squared_error', metrics=['mae'])\n",
    "model_ncf.fit(X, y, epochs=10, batch_size=32)"
   ]
  },
  {
   "cell_type": "markdown",
   "metadata": {},
   "source": [
    "*Recommender System*"
   ]
  },
  {
   "cell_type": "code",
   "execution_count": 74,
   "metadata": {},
   "outputs": [
    {
     "name": "stdout",
     "output_type": "stream",
     "text": [
      "\u001b[1m162/162\u001b[0m \u001b[32m━━━━━━━━━━━━━━━━━━━━\u001b[0m\u001b[37m\u001b[0m \u001b[1m0s\u001b[0m 380us/step\n",
      "Recommended games for user 1423371: ['Reckless Ruckus', 'Arcadia', \"Tom Clancy's Ghost Recon Phantoms - EU Looks and Power (Recon)\", 'UFO Afterlight - Old Version', 'Overcast - Walden and the Werewolf - Soundtrack']\n"
     ]
    }
   ],
   "source": [
    "def recommend_games(user_id, model, game_to_index, top_n=5):\n",
    "    user_index = userid_to_index[user_id]\n",
    "    user_vector = np.array([user_index])\n",
    "\n",
    "    # game index\n",
    "    game_indices = np.array(range(len(game_to_index)))\n",
    "\n",
    "    # merge user index and game index\n",
    "    user_game_pairs = np.array(np.meshgrid(user_vector, game_indices)).T.reshape(-1, 2)\n",
    "\n",
    "    predictions = model.predict(user_game_pairs).flatten()\n",
    "\n",
    "    # top games\n",
    "    top_games_indices = np.argsort(predictions)[-top_n:][::-1]\n",
    "    recommended_games = [game_names[i] for i in top_games_indices]\n",
    "\n",
    "    return recommended_games\n",
    "\n",
    "\n",
    "recommended_games = recommend_games(1423371, model_ncf, game_to_index)\n",
    "print(\"Recommended games for user 1423371:\", recommended_games)"
   ]
  }
 ],
 "metadata": {
  "kernelspec": {
   "display_name": "base",
   "language": "python",
   "name": "python3"
  },
  "language_info": {
   "codemirror_mode": {
    "name": "ipython",
    "version": 3
   },
   "file_extension": ".py",
   "mimetype": "text/x-python",
   "name": "python",
   "nbconvert_exporter": "python",
   "pygments_lexer": "ipython3",
   "version": "3.12.0"
  },
  "orig_nbformat": 4
 },
 "nbformat": 4,
 "nbformat_minor": 2
}
